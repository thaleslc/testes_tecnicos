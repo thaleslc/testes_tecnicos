{
 "cells": [
  {
   "cell_type": "markdown",
   "id": "af14cb5c-72a8-4650-9fe4-eb35e388c869",
   "metadata": {},
   "source": [
    "### Para esse notebook é necessário instalar o xarray com as suas dependência recomendadas, que pode ser feito por meio no comando abaixo executado no terminal do seu ambiente conda (de acordo com a referência da biblioteca em : http://xarray.pydata.org/en/stable/getting-started-guide/installing.html)\n",
    "conda install -c conda-forge xarray dask netCDF4 bottleneck\n"
   ]
  },
  {
   "cell_type": "markdown",
   "id": "4031c886-bf48-4353-96a7-8c94938613ac",
   "metadata": {},
   "source": [
    "## 0 - Importanto as bibliotecas necessárias"
   ]
  },
  {
   "cell_type": "code",
   "execution_count": 1,
   "id": "c12c977c-e16e-4d49-a2c6-d96f8bb6bc58",
   "metadata": {},
   "outputs": [],
   "source": [
    "import xarray as xr\n",
    "import netCDF4  # espera-se que essa biblioteca seja instalada junto do xarray\n",
    "import numpy as np\n",
    "import pandas as pd"
   ]
  },
  {
   "cell_type": "markdown",
   "id": "b0268d75-7fbc-4da5-a853-02580ea725d4",
   "metadata": {},
   "source": [
    "## 1 - Importando os dados"
   ]
  },
  {
   "cell_type": "code",
   "execution_count": 2,
   "id": "e6a6f6da-3966-4f81-b08a-0e351edfd619",
   "metadata": {},
   "outputs": [],
   "source": [
    "url = 'https://www.ncei.noaa.gov/data/sea-surface-temperature-optimum-interpolation/v2.1/access/avhrr/202109/oisst-avhrr-v02r01.20210901.nc#mode=bytes'\n",
    "data = netCDF4.Dataset(url)\n",
    "data = xr.open_dataset(url)\n",
    "\n",
    "# é possível também utilizar o arquivo baixando-o para o diretório local e abrindo com o comando\n",
    "# data = xr.open_dataset('oisst-avhrr-v02r01.20210901.nc')"
   ]
  },
  {
   "cell_type": "markdown",
   "id": "a0dffa7b-797d-4162-bad9-1adbe689fecc",
   "metadata": {},
   "source": [
    "## 2 - Calculando a média da sst nas áreas de interesse"
   ]
  },
  {
   "cell_type": "markdown",
   "id": "977c8600-34bf-475d-a852-ef3166e19894",
   "metadata": {},
   "source": [
    "#### 2.1 - Sem considerar a influência da diferença entre as áreas das células do grid"
   ]
  },
  {
   "cell_type": "code",
   "execution_count": 3,
   "id": "ca98b198-5dd0-4d40-9247-49c9ff2f4414",
   "metadata": {},
   "outputs": [],
   "source": [
    "nino12 = data.sel(lat = slice(-10,0),lon = slice(360-90,360-80)).sst.mean(['lat','lon']).values  # (0-10S, 90W-80W)\n",
    "nino34 = data.sel(lat = slice(-5,5),lon = slice(360-170,360-120)).sst.mean(['lat','lon']).values  # (5N-5S, 170W-120W)\n",
    "cbm = data.sel(lat = slice(-43,-33),lon = slice(360-63,360-48)).sst.mean(['lat','lon']).values  #  (63ºW - 48ºW; 43ºS - 33ºS)"
   ]
  },
  {
   "cell_type": "markdown",
   "id": "403d2f9f-ddd2-45b1-b725-28bbce449283",
   "metadata": {},
   "source": [
    "#### 2.2 - Considerando a influência da diferença entre as áreas das células do grid"
   ]
  },
  {
   "cell_type": "code",
   "execution_count": 4,
   "id": "04537174-cb51-43b6-a004-e8f7b9069df7",
   "metadata": {},
   "outputs": [],
   "source": [
    "################# Para o Nino 1+2 #################\n",
    "\n",
    "nino12_area = data.sel(lat = slice(-10,0),lon = slice(360-90,360-80)).sst    #selecionando a área e a variável que desejo\n",
    "pesos = np.cos(np.deg2rad(nino12_area.lat))   #criando os pesos\n",
    "pesos.name = \"pesos\"   #renomeando o array apenas para não ter confusão com a latitude, pois ele fica inicialmente nomeado como \"lat'\n",
    "nino12_cp = nino12_area.weighted(pesos).mean((\"lon\", \"lat\")).values   #calculando a média ponderada pelos pesos\n",
    "del(pesos)\n",
    "\n",
    "################# Para o Nino 3.4 #################\n",
    "\n",
    "nino34_area = data.sel(lat = slice(-5,5),lon = slice(360-170,360-120)).sst\n",
    "pesos = np.cos(np.deg2rad(nino34_area.lat))\n",
    "pesos.name = \"pesos\"\n",
    "nino34_cp = nino34_area.weighted(pesos).mean((\"lon\", \"lat\")).values\n",
    "del(pesos)\n",
    "\n",
    "################# Para a CBM #################\n",
    "\n",
    "cbm_area = data.sel(lat = slice(-43,-33),lon = slice(360-63,360-48)).sst\n",
    "pesos = np.cos(np.deg2rad(cbm_area.lat))\n",
    "pesos.name = \"pesos\"\n",
    "cbm_cp = cbm_area.weighted(pesos).mean((\"lon\", \"lat\")).values\n",
    "del(pesos)"
   ]
  },
  {
   "cell_type": "markdown",
   "id": "3529ebd4-24ed-4cd6-b7e6-5cd3a1cacddf",
   "metadata": {},
   "source": [
    "## 3 - Salvando os dados em .csv"
   ]
  },
  {
   "cell_type": "code",
   "execution_count": 5,
   "id": "b88db228-b3b2-4a62-8f0b-d61c6a1c143b",
   "metadata": {},
   "outputs": [
    {
     "data": {
      "text/html": [
       "<div>\n",
       "<style scoped>\n",
       "    .dataframe tbody tr th:only-of-type {\n",
       "        vertical-align: middle;\n",
       "    }\n",
       "\n",
       "    .dataframe tbody tr th {\n",
       "        vertical-align: top;\n",
       "    }\n",
       "\n",
       "    .dataframe thead th {\n",
       "        text-align: right;\n",
       "    }\n",
       "</style>\n",
       "<table border=\"1\" class=\"dataframe\">\n",
       "  <thead>\n",
       "    <tr style=\"text-align: right;\">\n",
       "      <th></th>\n",
       "      <th>nino12</th>\n",
       "      <th>nino34</th>\n",
       "      <th>cbm</th>\n",
       "      <th>nino12_cp</th>\n",
       "      <th>nino34_cp</th>\n",
       "      <th>cbm_cp</th>\n",
       "    </tr>\n",
       "  </thead>\n",
       "  <tbody>\n",
       "    <tr>\n",
       "      <th>2021-09-01 12:00:00</th>\n",
       "      <td>20.723972</td>\n",
       "      <td>26.421827</td>\n",
       "      <td>12.61762</td>\n",
       "      <td>20.728138</td>\n",
       "      <td>26.421295</td>\n",
       "      <td>12.698307</td>\n",
       "    </tr>\n",
       "  </tbody>\n",
       "</table>\n",
       "</div>"
      ],
      "text/plain": [
       "                        nino12     nino34       cbm  nino12_cp  nino34_cp  \\\n",
       "2021-09-01 12:00:00  20.723972  26.421827  12.61762  20.728138  26.421295   \n",
       "\n",
       "                        cbm_cp  \n",
       "2021-09-01 12:00:00  12.698307  "
      ]
     },
     "execution_count": 5,
     "metadata": {},
     "output_type": "execute_result"
    }
   ],
   "source": [
    "colunas = ['nino12', 'nino34', 'cbm', 'nino12_cp', 'nino34_cp', 'cbm_cp']\n",
    "dados = pd.DataFrame(data = np.array([nino12, nino34, cbm, nino12_cp, nino34_cp, cbm_cp]).reshape(1,6), index = data.time.values, columns = colunas)\n",
    "dados.to_csv('dados.csv')\n",
    "dados"
   ]
  },
  {
   "cell_type": "markdown",
   "id": "07b13090-495f-4fa7-ba23-78cd7e8dbd61",
   "metadata": {},
   "source": [
    "## 4 - Lendo os dados salvos em .csv"
   ]
  },
  {
   "cell_type": "code",
   "execution_count": 6,
   "id": "65f5f6ab-9d05-4b3c-b777-c5c7db7eb292",
   "metadata": {},
   "outputs": [
    {
     "data": {
      "text/html": [
       "<div>\n",
       "<style scoped>\n",
       "    .dataframe tbody tr th:only-of-type {\n",
       "        vertical-align: middle;\n",
       "    }\n",
       "\n",
       "    .dataframe tbody tr th {\n",
       "        vertical-align: top;\n",
       "    }\n",
       "\n",
       "    .dataframe thead th {\n",
       "        text-align: right;\n",
       "    }\n",
       "</style>\n",
       "<table border=\"1\" class=\"dataframe\">\n",
       "  <thead>\n",
       "    <tr style=\"text-align: right;\">\n",
       "      <th></th>\n",
       "      <th>nino12</th>\n",
       "      <th>nino34</th>\n",
       "      <th>cbm</th>\n",
       "      <th>nino12_cp</th>\n",
       "      <th>nino34_cp</th>\n",
       "      <th>cbm_cp</th>\n",
       "    </tr>\n",
       "  </thead>\n",
       "  <tbody>\n",
       "    <tr>\n",
       "      <th>2021-09-01 12:00:00</th>\n",
       "      <td>20.723972</td>\n",
       "      <td>26.421827</td>\n",
       "      <td>12.617619</td>\n",
       "      <td>20.728138</td>\n",
       "      <td>26.421295</td>\n",
       "      <td>12.698307</td>\n",
       "    </tr>\n",
       "  </tbody>\n",
       "</table>\n",
       "</div>"
      ],
      "text/plain": [
       "                        nino12     nino34        cbm  nino12_cp  nino34_cp  \\\n",
       "2021-09-01 12:00:00  20.723972  26.421827  12.617619  20.728138  26.421295   \n",
       "\n",
       "                        cbm_cp  \n",
       "2021-09-01 12:00:00  12.698307  "
      ]
     },
     "execution_count": 6,
     "metadata": {},
     "output_type": "execute_result"
    }
   ],
   "source": [
    "dados_salvos = pd.read_csv('dados.csv', index_col = 0)\n",
    "dados_salvos"
   ]
  }
 ],
 "metadata": {
  "kernelspec": {
   "display_name": "Python 3 (ipykernel)",
   "language": "python",
   "name": "python3"
  },
  "language_info": {
   "codemirror_mode": {
    "name": "ipython",
    "version": 3
   },
   "file_extension": ".py",
   "mimetype": "text/x-python",
   "name": "python",
   "nbconvert_exporter": "python",
   "pygments_lexer": "ipython3",
   "version": "3.8.11"
  }
 },
 "nbformat": 4,
 "nbformat_minor": 5
}
